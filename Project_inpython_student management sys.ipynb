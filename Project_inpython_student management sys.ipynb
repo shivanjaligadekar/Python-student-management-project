{
 "cells": [
  {
   "cell_type": "code",
   "execution_count": null,
   "id": "fb8d25de",
   "metadata": {},
   "outputs": [],
   "source": [
    "#OOPS \n",
    "#file handling \n",
    "#multithreading\n",
    "#Exception Handing\n",
    "#SQL connection with jupyter note book\n",
    "#Regex\n",
    "#GUI[tkinter/django]\n",
    "#Project"
   ]
  },
  {
   "cell_type": "code",
   "execution_count": 19,
   "id": "9124fa95",
   "metadata": {
    "scrolled": true
   },
   "outputs": [
    {
     "data": {
      "text/plain": [
       "'\\n1.Accept student information\\n2.Display \\n3.Add\\n4.Deletion\\n5.Update\\n6.Search\\n'"
      ]
     },
     "execution_count": 19,
     "metadata": {},
     "output_type": "execute_result"
    }
   ],
   "source": [
    "#Project1 -Student management system\n",
    "\"\"\"\n",
    "1.Accept student information\n",
    "2.Display \n",
    "3.Add\n",
    "4.Deletion\n",
    "5.Update\n",
    "6.Search\n",
    "\"\"\""
   ]
  },
  {
   "cell_type": "code",
   "execution_count": 20,
   "id": "2119d684",
   "metadata": {},
   "outputs": [
    {
     "name": "stdout",
     "output_type": "stream",
     "text": [
      "Enter your choice: 5\n"
     ]
    }
   ],
   "source": [
    "def accept():\n",
    "    roll_no = int(input(\"Enter your roll no: \"))\n",
    "    name = input(\"Enter your name: \")\n",
    "    m1 = int(input(\"Enter marks of python: \"))\n",
    "    m2 = int(input(\"Enter marks of English: \"))\n",
    "    m3 = int(input(\"Enter marks of soft skills: \"))\n",
    "    obj1 = Student(roll_no, name, m1, m2, m3)\n",
    "    list1.append(obj1)\n",
    "    \n",
    "    def display(obj):\n",
    "        print(\"Roll Number: \", obj.roll_no)\n",
    "        print(\"Name: \", obj.name)\n",
    "        print(\"Python Marks: \", obj.m1)\n",
    "        print(\"English Marks: \", obj.m2)\n",
    "        print(\"Soft Skill Marks: \", obj.m3)\n",
    "        print(\"\\n\")\n",
    "        \n",
    "        \n",
    "def search(r):\n",
    "    for i in range(len(list1)):\n",
    "        if list1[i].roll_no == r:\n",
    "            return i\n",
    "        \n",
    "def delete(r):\n",
    "    i = Student.search(r)\n",
    "    if i is not None:\n",
    "        del list1[i]\n",
    "list1 = []\n",
    "while True:\n",
    "    ch = input(\"Enter your choice: \")\n",
    "    if ch == '1':\n",
    "        Student.accept()\n",
    "    elif ch == '2':\n",
    "        print(\"Student list\")\n",
    "        for i in range(len(list1)):\n",
    "            Student.display(list1[i])\n",
    "    elif ch == '3':\n",
    "        rn = int(input(\"Enter roll number: \"))\n",
    "        s = Student.search(rn)\n",
    "        if s is not None:\n",
    "            Student.display(list1[s])\n",
    "        else:\n",
    "            print(\"Student not found.\")\n",
    "    elif ch == '4':\n",
    "        rn = int(input(\"Enter Roll Number: \"))\n",
    "        Student.delete(rn)\n",
    "    elif ch == '5':\n",
    "        break\n",
    "    else:\n",
    "        print(\"Invalid choice. Please enter a valid option.\")\n",
    "    \n",
    "\n",
    "    \n",
    "    \n"
   ]
  },
  {
   "cell_type": "code",
   "execution_count": null,
   "id": "bd90ef59",
   "metadata": {},
   "outputs": [],
   "source": []
  },
  {
   "cell_type": "code",
   "execution_count": null,
   "id": "f2683220",
   "metadata": {},
   "outputs": [],
   "source": []
  }
 ],
 "metadata": {
  "kernelspec": {
   "display_name": "Python 3 (ipykernel)",
   "language": "python",
   "name": "python3"
  },
  "language_info": {
   "codemirror_mode": {
    "name": "ipython",
    "version": 3
   },
   "file_extension": ".py",
   "mimetype": "text/x-python",
   "name": "python",
   "nbconvert_exporter": "python",
   "pygments_lexer": "ipython3",
   "version": "3.9.13"
  },
  "widgets": {
   "application/vnd.jupyter.widget-state+json": {
    "state": {},
    "version_major": 2,
    "version_minor": 0
   }
  }
 },
 "nbformat": 4,
 "nbformat_minor": 5
}
